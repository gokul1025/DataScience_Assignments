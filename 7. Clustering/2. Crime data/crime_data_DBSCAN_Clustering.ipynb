{
 "cells": [
  {
   "cell_type": "code",
   "execution_count": 1,
   "metadata": {
    "_cell_guid": "b1076dfc-b9ad-4769-8c92-a6c4dae69d19",
    "_uuid": "8f2839f25d086af736a60e9eeb907d3b93b6e0e5",
    "execution": {
     "iopub.execute_input": "2020-11-25T20:29:43.639375Z",
     "iopub.status.busy": "2020-11-25T20:29:43.638593Z",
     "iopub.status.idle": "2020-11-25T20:29:44.925543Z",
     "shell.execute_reply": "2020-11-25T20:29:44.924812Z"
    },
    "papermill": {
     "duration": 1.316936,
     "end_time": "2020-11-25T20:29:44.925677",
     "exception": false,
     "start_time": "2020-11-25T20:29:43.608741",
     "status": "completed"
    },
    "tags": []
   },
   "outputs": [],
   "source": [
    "#Importing libraries\n",
    "import numpy as np\n",
    "import pandas as pd\n",
    "import matplotlib.pyplot as plt\n",
    "from sklearn import metrics\n",
    "from sklearn.cluster import DBSCAN\n",
    "from sklearn.preprocessing import StandardScaler\n",
    "from sklearn.neighbors import NearestNeighbors"
   ]
  },
  {
   "cell_type": "code",
   "execution_count": 2,
   "metadata": {
    "_cell_guid": "79c7e3d0-c299-4dcb-8224-4455121ee9b0",
    "_uuid": "d629ff2d2480ee46fbb7e2d37f6b5fab8052498a",
    "execution": {
     "iopub.execute_input": "2020-11-25T20:29:44.981633Z",
     "iopub.status.busy": "2020-11-25T20:29:44.980518Z",
     "iopub.status.idle": "2020-11-25T20:29:44.988871Z",
     "shell.execute_reply": "2020-11-25T20:29:44.988294Z"
    },
    "papermill": {
     "duration": 0.039614,
     "end_time": "2020-11-25T20:29:44.988997",
     "exception": false,
     "start_time": "2020-11-25T20:29:44.949383",
     "status": "completed"
    },
    "tags": []
   },
   "outputs": [],
   "source": [
    "#Loading the data\n",
    "data = pd.read_csv('crime_data.csv')"
   ]
  },
  {
   "cell_type": "code",
   "execution_count": 3,
   "metadata": {
    "execution": {
     "iopub.execute_input": "2020-11-25T20:29:45.042689Z",
     "iopub.status.busy": "2020-11-25T20:29:45.041832Z",
     "iopub.status.idle": "2020-11-25T20:29:45.046144Z",
     "shell.execute_reply": "2020-11-25T20:29:45.046716Z"
    },
    "papermill": {
     "duration": 0.034061,
     "end_time": "2020-11-25T20:29:45.046891",
     "exception": false,
     "start_time": "2020-11-25T20:29:45.012830",
     "status": "completed"
    },
    "tags": []
   },
   "outputs": [
    {
     "data": {
      "text/plain": [
       "(50, 5)"
      ]
     },
     "execution_count": 3,
     "metadata": {},
     "output_type": "execute_result"
    }
   ],
   "source": [
    "#Checking the shape of the data\n",
    "data.shape"
   ]
  },
  {
   "cell_type": "code",
   "execution_count": 4,
   "metadata": {
    "execution": {
     "iopub.execute_input": "2020-11-25T20:29:45.100754Z",
     "iopub.status.busy": "2020-11-25T20:29:45.099962Z",
     "iopub.status.idle": "2020-11-25T20:29:45.112649Z",
     "shell.execute_reply": "2020-11-25T20:29:45.112017Z"
    },
    "papermill": {
     "duration": 0.041297,
     "end_time": "2020-11-25T20:29:45.112772",
     "exception": false,
     "start_time": "2020-11-25T20:29:45.071475",
     "status": "completed"
    },
    "tags": []
   },
   "outputs": [
    {
     "data": {
      "text/plain": [
       "Unnamed: 0    0\n",
       "Murder        0\n",
       "Assault       0\n",
       "UrbanPop      0\n",
       "Rape          0\n",
       "dtype: int64"
      ]
     },
     "execution_count": 4,
     "metadata": {},
     "output_type": "execute_result"
    }
   ],
   "source": [
    "#Checking null values\n",
    "data.isnull().sum()"
   ]
  },
  {
   "cell_type": "code",
   "execution_count": 5,
   "metadata": {
    "execution": {
     "iopub.execute_input": "2020-11-25T20:29:45.172728Z",
     "iopub.status.busy": "2020-11-25T20:29:45.171959Z",
     "iopub.status.idle": "2020-11-25T20:29:45.181134Z",
     "shell.execute_reply": "2020-11-25T20:29:45.180343Z"
    },
    "papermill": {
     "duration": 0.044255,
     "end_time": "2020-11-25T20:29:45.181306",
     "exception": false,
     "start_time": "2020-11-25T20:29:45.137051",
     "status": "completed"
    },
    "tags": []
   },
   "outputs": [
    {
     "data": {
      "text/html": [
       "<div>\n",
       "<style scoped>\n",
       "    .dataframe tbody tr th:only-of-type {\n",
       "        vertical-align: middle;\n",
       "    }\n",
       "\n",
       "    .dataframe tbody tr th {\n",
       "        vertical-align: top;\n",
       "    }\n",
       "\n",
       "    .dataframe thead th {\n",
       "        text-align: right;\n",
       "    }\n",
       "</style>\n",
       "<table border=\"1\" class=\"dataframe\">\n",
       "  <thead>\n",
       "    <tr style=\"text-align: right;\">\n",
       "      <th></th>\n",
       "      <th>Unnamed: 0</th>\n",
       "      <th>Murder</th>\n",
       "      <th>Assault</th>\n",
       "      <th>UrbanPop</th>\n",
       "      <th>Rape</th>\n",
       "    </tr>\n",
       "  </thead>\n",
       "  <tbody>\n",
       "    <tr>\n",
       "      <th>0</th>\n",
       "      <td>Alabama</td>\n",
       "      <td>13.2</td>\n",
       "      <td>236</td>\n",
       "      <td>58</td>\n",
       "      <td>21.2</td>\n",
       "    </tr>\n",
       "    <tr>\n",
       "      <th>1</th>\n",
       "      <td>Alaska</td>\n",
       "      <td>10.0</td>\n",
       "      <td>263</td>\n",
       "      <td>48</td>\n",
       "      <td>44.5</td>\n",
       "    </tr>\n",
       "    <tr>\n",
       "      <th>2</th>\n",
       "      <td>Arizona</td>\n",
       "      <td>8.1</td>\n",
       "      <td>294</td>\n",
       "      <td>80</td>\n",
       "      <td>31.0</td>\n",
       "    </tr>\n",
       "    <tr>\n",
       "      <th>3</th>\n",
       "      <td>Arkansas</td>\n",
       "      <td>8.8</td>\n",
       "      <td>190</td>\n",
       "      <td>50</td>\n",
       "      <td>19.5</td>\n",
       "    </tr>\n",
       "    <tr>\n",
       "      <th>4</th>\n",
       "      <td>California</td>\n",
       "      <td>9.0</td>\n",
       "      <td>276</td>\n",
       "      <td>91</td>\n",
       "      <td>40.6</td>\n",
       "    </tr>\n",
       "  </tbody>\n",
       "</table>\n",
       "</div>"
      ],
      "text/plain": [
       "   Unnamed: 0  Murder  Assault  UrbanPop  Rape\n",
       "0     Alabama    13.2      236        58  21.2\n",
       "1      Alaska    10.0      263        48  44.5\n",
       "2     Arizona     8.1      294        80  31.0\n",
       "3    Arkansas     8.8      190        50  19.5\n",
       "4  California     9.0      276        91  40.6"
      ]
     },
     "execution_count": 5,
     "metadata": {},
     "output_type": "execute_result"
    }
   ],
   "source": [
    "#Viewing some data\n",
    "data.head()"
   ]
  },
  {
   "cell_type": "markdown",
   "metadata": {
    "papermill": {
     "duration": 0.024817,
     "end_time": "2020-11-25T20:29:45.231317",
     "exception": false,
     "start_time": "2020-11-25T20:29:45.206500",
     "status": "completed"
    },
    "tags": []
   },
   "source": [
    "The data have three variables age, annual income and spending score."
   ]
  },
  {
   "cell_type": "code",
   "execution_count": 6,
   "metadata": {
    "execution": {
     "iopub.execute_input": "2020-11-25T20:29:45.292367Z",
     "iopub.status.busy": "2020-11-25T20:29:45.291440Z",
     "iopub.status.idle": "2020-11-25T20:29:45.296183Z",
     "shell.execute_reply": "2020-11-25T20:29:45.295626Z"
    },
    "papermill": {
     "duration": 0.039892,
     "end_time": "2020-11-25T20:29:45.296326",
     "exception": false,
     "start_time": "2020-11-25T20:29:45.256434",
     "status": "completed"
    },
    "scrolled": true,
    "tags": []
   },
   "outputs": [
    {
     "data": {
      "text/plain": [
       "array([[ 13.2, 236. ,  58. ,  21.2],\n",
       "       [ 10. , 263. ,  48. ,  44.5],\n",
       "       [  8.1, 294. ,  80. ,  31. ],\n",
       "       [  8.8, 190. ,  50. ,  19.5],\n",
       "       [  9. , 276. ,  91. ,  40.6],\n",
       "       [  7.9, 204. ,  78. ,  38.7],\n",
       "       [  3.3, 110. ,  77. ,  11.1],\n",
       "       [  5.9, 238. ,  72. ,  15.8],\n",
       "       [ 15.4, 335. ,  80. ,  31.9],\n",
       "       [ 17.4, 211. ,  60. ,  25.8],\n",
       "       [  5.3,  46. ,  83. ,  20.2],\n",
       "       [  2.6, 120. ,  54. ,  14.2],\n",
       "       [ 10.4, 249. ,  83. ,  24. ],\n",
       "       [  7.2, 113. ,  65. ,  21. ],\n",
       "       [  2.2,  56. ,  57. ,  11.3],\n",
       "       [  6. , 115. ,  66. ,  18. ],\n",
       "       [  9.7, 109. ,  52. ,  16.3],\n",
       "       [ 15.4, 249. ,  66. ,  22.2],\n",
       "       [  2.1,  83. ,  51. ,   7.8],\n",
       "       [ 11.3, 300. ,  67. ,  27.8],\n",
       "       [  4.4, 149. ,  85. ,  16.3],\n",
       "       [ 12.1, 255. ,  74. ,  35.1],\n",
       "       [  2.7,  72. ,  66. ,  14.9],\n",
       "       [ 16.1, 259. ,  44. ,  17.1],\n",
       "       [  9. , 178. ,  70. ,  28.2],\n",
       "       [  6. , 109. ,  53. ,  16.4],\n",
       "       [  4.3, 102. ,  62. ,  16.5],\n",
       "       [ 12.2, 252. ,  81. ,  46. ],\n",
       "       [  2.1,  57. ,  56. ,   9.5],\n",
       "       [  7.4, 159. ,  89. ,  18.8],\n",
       "       [ 11.4, 285. ,  70. ,  32.1],\n",
       "       [ 11.1, 254. ,  86. ,  26.1],\n",
       "       [ 13. , 337. ,  45. ,  16.1],\n",
       "       [  0.8,  45. ,  44. ,   7.3],\n",
       "       [  7.3, 120. ,  75. ,  21.4],\n",
       "       [  6.6, 151. ,  68. ,  20. ],\n",
       "       [  4.9, 159. ,  67. ,  29.3],\n",
       "       [  6.3, 106. ,  72. ,  14.9],\n",
       "       [  3.4, 174. ,  87. ,   8.3],\n",
       "       [ 14.4, 279. ,  48. ,  22.5],\n",
       "       [  3.8,  86. ,  45. ,  12.8],\n",
       "       [ 13.2, 188. ,  59. ,  26.9],\n",
       "       [ 12.7, 201. ,  80. ,  25.5],\n",
       "       [  3.2, 120. ,  80. ,  22.9],\n",
       "       [  2.2,  48. ,  32. ,  11.2],\n",
       "       [  8.5, 156. ,  63. ,  20.7],\n",
       "       [  4. , 145. ,  73. ,  26.2],\n",
       "       [  5.7,  81. ,  39. ,   9.3],\n",
       "       [  2.6,  53. ,  66. ,  10.8],\n",
       "       [  6.8, 161. ,  60. ,  15.6]])"
      ]
     },
     "execution_count": 6,
     "metadata": {},
     "output_type": "execute_result"
    }
   ],
   "source": [
    "#Creating X data with variables Annual Income and Spending Scores\n",
    "X = data.iloc[:,1:].values\n",
    "X"
   ]
  },
  {
   "cell_type": "markdown",
   "metadata": {
    "papermill": {
     "duration": 0.025633,
     "end_time": "2020-11-25T20:29:45.347715",
     "exception": false,
     "start_time": "2020-11-25T20:29:45.322082",
     "status": "completed"
    },
    "tags": []
   },
   "source": [
    "Here We have created a X data set which have annual income and spending score variables only. "
   ]
  },
  {
   "cell_type": "code",
   "execution_count": 7,
   "metadata": {
    "execution": {
     "iopub.execute_input": "2020-11-25T20:29:45.416692Z",
     "iopub.status.busy": "2020-11-25T20:29:45.415627Z",
     "iopub.status.idle": "2020-11-25T20:29:45.420192Z",
     "shell.execute_reply": "2020-11-25T20:29:45.419509Z"
    },
    "papermill": {
     "duration": 0.046424,
     "end_time": "2020-11-25T20:29:45.420333",
     "exception": false,
     "start_time": "2020-11-25T20:29:45.373909",
     "status": "completed"
    },
    "scrolled": true,
    "tags": []
   },
   "outputs": [
    {
     "data": {
      "text/plain": [
       "array([[ 1.25517927,  0.79078716, -0.52619514, -0.00345116],\n",
       "       [ 0.51301858,  1.11805959, -1.22406668,  2.50942392],\n",
       "       [ 0.07236067,  1.49381682,  1.00912225,  1.05346626],\n",
       "       [ 0.23470832,  0.23321191, -1.08449238, -0.18679398],\n",
       "       [ 0.28109336,  1.2756352 ,  1.77678094,  2.08881393],\n",
       "       [ 0.02597562,  0.40290872,  0.86954794,  1.88390137],\n",
       "       [-1.04088037, -0.73648418,  0.79976079, -1.09272319],\n",
       "       [-0.43787481,  0.81502956,  0.45082502, -0.58583422],\n",
       "       [ 1.76541475,  1.99078607,  1.00912225,  1.1505301 ],\n",
       "       [ 2.22926518,  0.48775713, -0.38662083,  0.49265293],\n",
       "       [-0.57702994, -1.51224105,  1.21848371, -0.11129987],\n",
       "       [-1.20322802, -0.61527217, -0.80534376, -0.75839217],\n",
       "       [ 0.60578867,  0.94836277,  1.21848371,  0.29852525],\n",
       "       [-0.13637203, -0.70012057, -0.03768506, -0.0250209 ],\n",
       "       [-1.29599811, -1.39102904, -0.5959823 , -1.07115345],\n",
       "       [-0.41468229, -0.67587817,  0.03210209, -0.34856705],\n",
       "       [ 0.44344101, -0.74860538, -0.94491807, -0.53190987],\n",
       "       [ 1.76541475,  0.94836277,  0.03210209,  0.10439756],\n",
       "       [-1.31919063, -1.06375661, -1.01470522, -1.44862395],\n",
       "       [ 0.81452136,  1.56654403,  0.10188925,  0.70835037],\n",
       "       [-0.78576263, -0.26375734,  1.35805802, -0.53190987],\n",
       "       [ 1.00006153,  1.02108998,  0.59039932,  1.49564599],\n",
       "       [-1.1800355 , -1.19708982,  0.03210209, -0.68289807],\n",
       "       [ 1.9277624 ,  1.06957478, -1.5032153 , -0.44563089],\n",
       "       [ 0.28109336,  0.0877575 ,  0.31125071,  0.75148985],\n",
       "       [-0.41468229, -0.74860538, -0.87513091, -0.521125  ],\n",
       "       [-0.80895515, -0.83345379, -0.24704653, -0.51034012],\n",
       "       [ 1.02325405,  0.98472638,  1.0789094 ,  2.671197  ],\n",
       "       [-1.31919063, -1.37890783, -0.66576945, -1.26528114],\n",
       "       [-0.08998698, -0.14254532,  1.63720664, -0.26228808],\n",
       "       [ 0.83771388,  1.38472601,  0.31125071,  1.17209984],\n",
       "       [ 0.76813632,  1.00896878,  1.42784517,  0.52500755],\n",
       "       [ 1.20879423,  2.01502847, -1.43342815, -0.55347961],\n",
       "       [-1.62069341, -1.52436225, -1.5032153 , -1.50254831],\n",
       "       [-0.11317951, -0.61527217,  0.66018648,  0.01811858],\n",
       "       [-0.27552716, -0.23951493,  0.1716764 , -0.13286962],\n",
       "       [-0.66980002, -0.14254532,  0.10188925,  0.87012344],\n",
       "       [-0.34510472, -0.78496898,  0.45082502, -0.68289807],\n",
       "       [-1.01768785,  0.03927269,  1.49763233, -1.39469959],\n",
       "       [ 1.53348953,  1.3119988 , -1.22406668,  0.13675217],\n",
       "       [-0.92491776, -1.027393  , -1.43342815, -0.90938037],\n",
       "       [ 1.25517927,  0.20896951, -0.45640799,  0.61128652],\n",
       "       [ 1.13921666,  0.36654512,  1.00912225,  0.46029832],\n",
       "       [-1.06407289, -0.61527217,  1.00912225,  0.17989166],\n",
       "       [-1.29599811, -1.48799864, -2.34066115, -1.08193832],\n",
       "       [ 0.16513075, -0.17890893, -0.17725937, -0.05737552],\n",
       "       [-0.87853272, -0.31224214,  0.52061217,  0.53579242],\n",
       "       [-0.48425985, -1.08799901, -1.85215107, -1.28685088],\n",
       "       [-1.20322802, -1.42739264,  0.03210209, -1.1250778 ],\n",
       "       [-0.22914211, -0.11830292, -0.38662083, -0.60740397]])"
      ]
     },
     "execution_count": 7,
     "metadata": {},
     "output_type": "execute_result"
    }
   ],
   "source": [
    "#Feature Scaling of the X Data\n",
    "sc = StandardScaler()\n",
    "X = sc.fit_transform(X)\n",
    "X"
   ]
  },
  {
   "cell_type": "markdown",
   "metadata": {
    "papermill": {
     "duration": 0.026869,
     "end_time": "2020-11-25T20:29:45.473968",
     "exception": false,
     "start_time": "2020-11-25T20:29:45.447099",
     "status": "completed"
    },
    "tags": []
   },
   "source": [
    "We have to compute optimal number of radius for performing DBSCAN and hence We will find nearst neighbor."
   ]
  },
  {
   "cell_type": "code",
   "execution_count": 8,
   "metadata": {
    "execution": {
     "iopub.execute_input": "2020-11-25T20:29:45.536597Z",
     "iopub.status.busy": "2020-11-25T20:29:45.535774Z",
     "iopub.status.idle": "2020-11-25T20:29:45.539327Z",
     "shell.execute_reply": "2020-11-25T20:29:45.538626Z"
    },
    "papermill": {
     "duration": 0.038412,
     "end_time": "2020-11-25T20:29:45.539448",
     "exception": false,
     "start_time": "2020-11-25T20:29:45.501036",
     "status": "completed"
    },
    "tags": []
   },
   "outputs": [],
   "source": [
    "#Creating Nearest Neighbor list with respect to their index number\n",
    "nbrs = NearestNeighbors(n_neighbors=3).fit(X) #Applying nearest neighbors on X data\n",
    "distances, indices = nbrs.kneighbors(X) #Extracting euclidean distance and index numbers"
   ]
  },
  {
   "cell_type": "markdown",
   "metadata": {
    "papermill": {
     "duration": 0.026843,
     "end_time": "2020-11-25T20:29:45.593506",
     "exception": false,
     "start_time": "2020-11-25T20:29:45.566663",
     "status": "completed"
    },
    "tags": []
   },
   "source": [
    "We have performed nearest neighbors with taking 3 neighbor points to be covered while computing distance. We are getting euclidean distance with respect to nearest neighbors from the core points. "
   ]
  },
  {
   "cell_type": "code",
   "execution_count": 9,
   "metadata": {
    "execution": {
     "iopub.execute_input": "2020-11-25T20:29:45.663003Z",
     "iopub.status.busy": "2020-11-25T20:29:45.652464Z",
     "iopub.status.idle": "2020-11-25T20:29:45.668005Z",
     "shell.execute_reply": "2020-11-25T20:29:45.667286Z"
    },
    "papermill": {
     "duration": 0.047195,
     "end_time": "2020-11-25T20:29:45.668127",
     "exception": false,
     "start_time": "2020-11-25T20:29:45.620932",
     "status": "completed"
    },
    "tags": []
   },
   "outputs": [
    {
     "data": {
      "text/plain": [
       "array([[0.        , 0.78006247, 0.84928467],\n",
       "       [0.        , 2.07898369, 2.13697134],\n",
       "       [0.        , 1.0482199 , 1.08341076],\n",
       "       [0.        , 1.0013278 , 1.00722663],\n",
       "       [0.        , 1.20897691, 1.30069114],\n",
       "       [0.        , 1.24886253, 1.30069114],\n",
       "       [0.        , 0.88100359, 0.95643249],\n",
       "       [0.        , 1.19227586, 1.27140067],\n",
       "       [0.        , 1.30974334, 1.34926273],\n",
       "       [0.        , 0.86797806, 1.02250187],\n",
       "       [0.        , 1.08184506, 1.16110091],\n",
       "       [0.        , 0.75913104, 0.81522244],\n",
       "       [0.        , 0.35377437, 0.83250223],\n",
       "       [0.        , 0.43312429, 0.53571007],\n",
       "       [0.        , 0.2079438 , 0.63822131],\n",
       "       [0.        , 0.43312429, 0.52515083],\n",
       "       [0.        , 0.8610239 , 1.07057017],\n",
       "       [0.        , 0.78006247, 0.86797806],\n",
       "       [0.        , 0.50466926, 0.65227142],\n",
       "       [0.        , 0.54082482, 1.09106451],\n",
       "       [0.        , 0.80586349, 0.91073424],\n",
       "       [0.        , 0.58411812, 1.09106451],\n",
       "       [0.        , 0.49909939, 0.61451768],\n",
       "       [0.        , 0.79455301, 1.1946964 ],\n",
       "       [0.        , 0.98866758, 1.00754343],\n",
       "       [0.        , 0.74649625, 0.82328154],\n",
       "       [0.        , 0.53326883, 0.61451768],\n",
       "       [0.        , 1.20897691, 1.27374348],\n",
       "       [0.        , 0.2079438 , 0.50466926],\n",
       "       [0.        , 0.80586349, 1.12125146],\n",
       "       [0.        , 0.54082482, 0.58411812],\n",
       "       [0.        , 0.35377437, 0.85435645],\n",
       "       [0.        , 1.0582674 , 1.1946964 ],\n",
       "       [0.        , 0.73797792, 0.93256216],\n",
       "       [0.        , 0.65497312, 0.70471473],\n",
       "       [0.        , 0.52515083, 0.53571007],\n",
       "       [0.        , 0.59956023, 1.00754343],\n",
       "       [0.        , 0.55122406, 0.78602982],\n",
       "       [0.        , 0.95367898, 1.08653166],\n",
       "       [0.        , 0.79455301, 0.92509451],\n",
       "       [0.        , 0.71809843, 0.78923123],\n",
       "       [0.        , 0.84928467, 1.02250187],\n",
       "       [0.        , 0.83250223, 0.85435645],\n",
       "       [0.        , 0.70111326, 0.91073424],\n",
       "       [0.        , 0.99246041, 1.04859428],\n",
       "       [0.        , 0.57035779, 0.61894533],\n",
       "       [0.        , 0.59956023, 0.70111326],\n",
       "       [0.        , 0.71809843, 1.04859428],\n",
       "       [0.        , 0.49909939, 0.63822131],\n",
       "       [0.        , 0.71097658, 0.74412537]])"
      ]
     },
     "execution_count": 9,
     "metadata": {},
     "output_type": "execute_result"
    }
   ],
   "source": [
    "#Checking distance (1st Nearest Distance and 2nd Nearest Distance)\n",
    "distances"
   ]
  },
  {
   "cell_type": "markdown",
   "metadata": {
    "papermill": {
     "duration": 0.027749,
     "end_time": "2020-11-25T20:29:45.724095",
     "exception": false,
     "start_time": "2020-11-25T20:29:45.696346",
     "status": "completed"
    },
    "tags": []
   },
   "source": [
    "What it indicates ?\n",
    "1. 0.00 is a euclidean distance from core point to core point which is a zero \n",
    "2. 0.08564307 is a euclidean distance from core point to 1st nearest distance point\n",
    "   SQRT((X0 - X4)^2 + (Y0 - Y4)^2)\n",
    "3. 0.27669913 is a euclidean distance from core point to 2nd nearest distance point\n",
    "   SQRT((X0 - X16)^2 + (Y0 - Y16)^2)\n",
    "4. So this is a distance point list from core point to core point, core point to 1st nearest point &      core point to 2nd nearest point.\n"
   ]
  },
  {
   "cell_type": "code",
   "execution_count": 10,
   "metadata": {
    "execution": {
     "iopub.execute_input": "2020-11-25T20:29:45.789403Z",
     "iopub.status.busy": "2020-11-25T20:29:45.788306Z",
     "iopub.status.idle": "2020-11-25T20:29:45.792822Z",
     "shell.execute_reply": "2020-11-25T20:29:45.792102Z"
    },
    "papermill": {
     "duration": 0.040954,
     "end_time": "2020-11-25T20:29:45.792942",
     "exception": false,
     "start_time": "2020-11-25T20:29:45.751988",
     "status": "completed"
    },
    "scrolled": true,
    "tags": []
   },
   "outputs": [
    {
     "data": {
      "text/plain": [
       "array([[ 0, 17, 41],\n",
       "       [ 1, 30, 21],\n",
       "       [ 2, 30, 31],\n",
       "       [ 3, 49, 45],\n",
       "       [ 4, 27,  5],\n",
       "       [ 5, 21,  4],\n",
       "       [ 6, 37, 20],\n",
       "       [ 7, 35, 49],\n",
       "       [ 8, 30, 21],\n",
       "       [ 9, 17, 41],\n",
       "       [10, 43, 34],\n",
       "       [11, 26, 40],\n",
       "       [12, 31, 42],\n",
       "       [13, 15, 35],\n",
       "       [14, 28, 48],\n",
       "       [15, 13, 35],\n",
       "       [16, 25,  3],\n",
       "       [17,  0,  9],\n",
       "       [18, 28, 14],\n",
       "       [19, 30, 21],\n",
       "       [20, 29, 43],\n",
       "       [21, 30, 19],\n",
       "       [22, 48, 26],\n",
       "       [23, 39, 32],\n",
       "       [24, 45, 36],\n",
       "       [25, 26, 49],\n",
       "       [26, 15, 22],\n",
       "       [27,  4, 21],\n",
       "       [28, 14, 18],\n",
       "       [29, 20, 34],\n",
       "       [30, 19, 21],\n",
       "       [31, 12, 42],\n",
       "       [32, 39, 23],\n",
       "       [33, 18, 28],\n",
       "       [34, 35, 13],\n",
       "       [35, 15, 13],\n",
       "       [36, 46, 24],\n",
       "       [37, 15, 34],\n",
       "       [38, 20,  6],\n",
       "       [39, 23,  0],\n",
       "       [40, 47, 18],\n",
       "       [41,  0,  9],\n",
       "       [42, 12, 31],\n",
       "       [43, 46, 20],\n",
       "       [44, 33, 47],\n",
       "       [45, 35, 13],\n",
       "       [46, 36, 43],\n",
       "       [47, 40, 44],\n",
       "       [48, 22, 14],\n",
       "       [49, 45, 35]], dtype=int64)"
      ]
     },
     "execution_count": 10,
     "metadata": {},
     "output_type": "execute_result"
    }
   ],
   "source": [
    "#Checking Index\n",
    "indices"
   ]
  },
  {
   "cell_type": "markdown",
   "metadata": {
    "papermill": {
     "duration": 0.028476,
     "end_time": "2020-11-25T20:29:45.851156",
     "exception": false,
     "start_time": "2020-11-25T20:29:45.822680",
     "status": "completed"
    },
    "tags": []
   },
   "source": [
    "This is a index numbers list with repect to the distances which We have calculated above."
   ]
  },
  {
   "cell_type": "code",
   "execution_count": 11,
   "metadata": {
    "execution": {
     "iopub.execute_input": "2020-11-25T20:29:45.921577Z",
     "iopub.status.busy": "2020-11-25T20:29:45.920498Z",
     "iopub.status.idle": "2020-11-25T20:29:45.925093Z",
     "shell.execute_reply": "2020-11-25T20:29:45.924509Z"
    },
    "papermill": {
     "duration": 0.044298,
     "end_time": "2020-11-25T20:29:45.925234",
     "exception": false,
     "start_time": "2020-11-25T20:29:45.880936",
     "status": "completed"
    },
    "scrolled": true,
    "tags": []
   },
   "outputs": [
    {
     "data": {
      "text/plain": [
       "[2.136971344643597,\n",
       " 1.3492627276449263,\n",
       " 1.300691141549338,\n",
       " 1.300691141549338,\n",
       " 1.2737434843867874,\n",
       " 1.2714006712452572,\n",
       " 1.1946964016190045,\n",
       " 1.1946964016190045,\n",
       " 1.1611009144493558,\n",
       " 1.1212514637907172,\n",
       " 1.091064514746985,\n",
       " 1.091064514746985,\n",
       " 1.0865316609298954,\n",
       " 1.0834107590553272,\n",
       " 1.0705701702968808,\n",
       " 1.0485942788183757,\n",
       " 1.0485942788183757,\n",
       " 1.0225018692038894,\n",
       " 1.0225018692038894,\n",
       " 1.0075434347882106,\n",
       " 1.0075434347882106,\n",
       " 1.0072266290663898,\n",
       " 0.9564324916279576,\n",
       " 0.9325621570829024,\n",
       " 0.9250945050118186,\n",
       " 0.9107342425159917,\n",
       " 0.9107342425159917,\n",
       " 0.8679780563698087,\n",
       " 0.8543564542245922,\n",
       " 0.8543564542245922,\n",
       " 0.849284665487476,\n",
       " 0.8325022270723199,\n",
       " 0.8232815438483984,\n",
       " 0.8152224355390763,\n",
       " 0.7892312284255611,\n",
       " 0.7860298248284557,\n",
       " 0.7441253749799489,\n",
       " 0.7047147287128988,\n",
       " 0.7011132598462632,\n",
       " 0.6522714208221354,\n",
       " 0.6382213052451658,\n",
       " 0.6382213052451658,\n",
       " 0.6189453256417937,\n",
       " 0.6145176824765823,\n",
       " 0.6145176824765823,\n",
       " 0.5841181249165429,\n",
       " 0.5357100654046991,\n",
       " 0.5357100654046991,\n",
       " 0.5251508316983605,\n",
       " 0.504669255247686]"
      ]
     },
     "execution_count": 11,
     "metadata": {},
     "output_type": "execute_result"
    }
   ],
   "source": [
    "#Sorting the 2nd nearest distance values in descending order\n",
    "distanceDec = sorted(distances[:,2], reverse=True)\n",
    "distanceDec"
   ]
  },
  {
   "cell_type": "markdown",
   "metadata": {
    "papermill": {
     "duration": 0.030204,
     "end_time": "2020-11-25T20:29:45.985130",
     "exception": false,
     "start_time": "2020-11-25T20:29:45.954926",
     "status": "completed"
    },
    "tags": []
   },
   "source": [
    "We choose 2nd nearest neighbor distance in descending order through which we can determine the radius though ploting."
   ]
  },
  {
   "cell_type": "code",
   "execution_count": 12,
   "metadata": {
    "execution": {
     "iopub.execute_input": "2020-11-25T20:29:46.052016Z",
     "iopub.status.busy": "2020-11-25T20:29:46.051265Z",
     "iopub.status.idle": "2020-11-25T20:29:46.307582Z",
     "shell.execute_reply": "2020-11-25T20:29:46.306819Z"
    },
    "papermill": {
     "duration": 0.292507,
     "end_time": "2020-11-25T20:29:46.307703",
     "exception": false,
     "start_time": "2020-11-25T20:29:46.015196",
     "status": "completed"
    },
    "tags": []
   },
   "outputs": [
    {
     "data": {
      "image/png": "[encoded data removed]",
      "text/plain": [
       "<Figure size 1600x900 with 1 Axes>"
      ]
     },
     "metadata": {},
     "output_type": "display_data"
    }
   ],
   "source": [
    "#Ploting 2nd nearest distance with index\n",
    "plt.figure(figsize = (16,9))\n",
    "plt.plot(indices[:,0],distanceDec);\n",
    "plt.xlabel('Indices')\n",
    "plt.ylabel('Distance')\n",
    "plt.title('Optimal Number of Epsilon / Radius', fontsize = 20)\n",
    "plt.show()"
   ]
  },
  {
   "cell_type": "markdown",
   "metadata": {
    "papermill": {
     "duration": 0.030652,
     "end_time": "2020-11-25T20:29:46.369816",
     "exception": false,
     "start_time": "2020-11-25T20:29:46.339164",
     "status": "completed"
    },
    "tags": []
   },
   "source": [
    "As per graph, It indicates that 0.64 is the optimal point. "
   ]
  },
  {
   "cell_type": "code",
   "execution_count": 13,
   "metadata": {
    "execution": {
     "iopub.execute_input": "2020-11-25T20:29:46.438457Z",
     "iopub.status.busy": "2020-11-25T20:29:46.437415Z",
     "iopub.status.idle": "2020-11-25T20:29:46.441790Z",
     "shell.execute_reply": "2020-11-25T20:29:46.441110Z"
    },
    "papermill": {
     "duration": 0.041024,
     "end_time": "2020-11-25T20:29:46.441912",
     "exception": false,
     "start_time": "2020-11-25T20:29:46.400888",
     "status": "completed"
    },
    "tags": []
   },
   "outputs": [],
   "source": [
    "#Implementing DBSCAN\n",
    "db = DBSCAN(eps = 0.6, min_samples=3).fit(X)"
   ]
  },
  {
   "cell_type": "code",
   "execution_count": 14,
   "metadata": {
    "execution": {
     "iopub.execute_input": "2020-11-25T20:29:46.512149Z",
     "iopub.status.busy": "2020-11-25T20:29:46.511051Z",
     "iopub.status.idle": "2020-11-25T20:29:46.516136Z",
     "shell.execute_reply": "2020-11-25T20:29:46.515393Z"
    },
    "papermill": {
     "duration": 0.04288,
     "end_time": "2020-11-25T20:29:46.516287",
     "exception": false,
     "start_time": "2020-11-25T20:29:46.473407",
     "status": "completed"
    },
    "scrolled": true,
    "tags": []
   },
   "outputs": [
    {
     "data": {
      "text/plain": [
       "array([-1, -1, -1, -1, -1, -1, -1, -1, -1, -1, -1, -1, -1,  0,  1,  0, -1,\n",
       "       -1,  1,  2, -1,  2, -1, -1, -1, -1,  0, -1,  1, -1,  2, -1, -1, -1,\n",
       "       -1,  0, -1,  0, -1, -1, -1, -1, -1, -1, -1,  0, -1, -1, -1, -1],\n",
       "      dtype=int64)"
      ]
     },
     "execution_count": 14,
     "metadata": {},
     "output_type": "execute_result"
    }
   ],
   "source": [
    "#Checking the cluster labels generated from DBSCAN\n",
    "db.labels_"
   ]
  },
  {
   "cell_type": "code",
   "execution_count": 15,
   "metadata": {
    "execution": {
     "iopub.execute_input": "2020-11-25T20:29:46.586623Z",
     "iopub.status.busy": "2020-11-25T20:29:46.585738Z",
     "iopub.status.idle": "2020-11-25T20:29:46.590425Z",
     "shell.execute_reply": "2020-11-25T20:29:46.589802Z"
    },
    "papermill": {
     "duration": 0.042568,
     "end_time": "2020-11-25T20:29:46.590553",
     "exception": false,
     "start_time": "2020-11-25T20:29:46.547985",
     "status": "completed"
    },
    "tags": []
   },
   "outputs": [
    {
     "data": {
      "text/plain": [
       "array([False, False, False, False, False, False, False, False, False,\n",
       "       False, False, False, False, False, False, False, False, False,\n",
       "       False, False, False, False, False, False, False, False, False,\n",
       "       False, False, False, False, False, False, False, False, False,\n",
       "       False, False, False, False, False, False, False, False, False,\n",
       "       False, False, False, False, False])"
      ]
     },
     "execution_count": 15,
     "metadata": {},
     "output_type": "execute_result"
    }
   ],
   "source": [
    "#Creating zeros arrays in boolean equivalent to core points of the labels\n",
    "core_samples_mask = np.zeros_like(db.labels_, \n",
    "                                  dtype = bool) \n",
    "core_samples_mask"
   ]
  },
  {
   "cell_type": "code",
   "execution_count": 16,
   "metadata": {
    "execution": {
     "iopub.execute_input": "2020-11-25T20:29:46.663073Z",
     "iopub.status.busy": "2020-11-25T20:29:46.662032Z",
     "iopub.status.idle": "2020-11-25T20:29:46.665521Z",
     "shell.execute_reply": "2020-11-25T20:29:46.666087Z"
    },
    "papermill": {
     "duration": 0.043011,
     "end_time": "2020-11-25T20:29:46.666264",
     "exception": false,
     "start_time": "2020-11-25T20:29:46.623253",
     "status": "completed"
    },
    "tags": []
   },
   "outputs": [
    {
     "data": {
      "text/plain": [
       "array([13, 15, 28, 30, 35], dtype=int64)"
      ]
     },
     "execution_count": 16,
     "metadata": {},
     "output_type": "execute_result"
    }
   ],
   "source": [
    "#Getting the index number of the core points \n",
    "db.core_sample_indices_"
   ]
  },
  {
   "cell_type": "markdown",
   "metadata": {
    "papermill": {
     "duration": 0.032769,
     "end_time": "2020-11-25T20:29:46.732242",
     "exception": false,
     "start_time": "2020-11-25T20:29:46.699473",
     "status": "completed"
    },
    "tags": []
   },
   "source": [
    "#Working for visualization"
   ]
  },
  {
   "cell_type": "code",
   "execution_count": 17,
   "metadata": {
    "execution": {
     "iopub.execute_input": "2020-11-25T20:29:46.804456Z",
     "iopub.status.busy": "2020-11-25T20:29:46.803353Z",
     "iopub.status.idle": "2020-11-25T20:29:46.806567Z",
     "shell.execute_reply": "2020-11-25T20:29:46.805898Z"
    },
    "papermill": {
     "duration": 0.041179,
     "end_time": "2020-11-25T20:29:46.806689",
     "exception": false,
     "start_time": "2020-11-25T20:29:46.765510",
     "status": "completed"
    },
    "tags": []
   },
   "outputs": [],
   "source": [
    "#Marking core points as True in core_samples_mask\n",
    "core_samples_mask[db.core_sample_indices_] = True"
   ]
  },
  {
   "cell_type": "code",
   "execution_count": 18,
   "metadata": {
    "execution": {
     "iopub.execute_input": "2020-11-25T20:29:46.898378Z",
     "iopub.status.busy": "2020-11-25T20:29:46.897297Z",
     "iopub.status.idle": "2020-11-25T20:29:46.902358Z",
     "shell.execute_reply": "2020-11-25T20:29:46.903133Z"
    },
    "papermill": {
     "duration": 0.056244,
     "end_time": "2020-11-25T20:29:46.903364",
     "exception": false,
     "start_time": "2020-11-25T20:29:46.847120",
     "status": "completed"
    },
    "tags": []
   },
   "outputs": [
    {
     "data": {
      "text/plain": [
       "array([-1, -1, -1, -1, -1, -1, -1, -1, -1, -1, -1, -1, -1,  0,  1,  0, -1,\n",
       "       -1,  1,  2, -1,  2, -1, -1, -1, -1,  0, -1,  1, -1,  2, -1, -1, -1,\n",
       "       -1,  0, -1,  0, -1, -1, -1, -1, -1, -1, -1,  0, -1, -1, -1, -1],\n",
       "      dtype=int64)"
      ]
     },
     "execution_count": 18,
     "metadata": {},
     "output_type": "execute_result"
    }
   ],
   "source": [
    "#Creating labels variables\n",
    "labels = db.labels_\n",
    "labels"
   ]
  },
  {
   "cell_type": "code",
   "execution_count": 19,
   "metadata": {
    "execution": {
     "iopub.execute_input": "2020-11-25T20:29:46.986548Z",
     "iopub.status.busy": "2020-11-25T20:29:46.985615Z",
     "iopub.status.idle": "2020-11-25T20:29:46.990828Z",
     "shell.execute_reply": "2020-11-25T20:29:46.990067Z"
    },
    "papermill": {
     "duration": 0.049659,
     "end_time": "2020-11-25T20:29:46.990963",
     "exception": false,
     "start_time": "2020-11-25T20:29:46.941304",
     "status": "completed"
    },
    "tags": []
   },
   "outputs": [
    {
     "data": {
      "text/plain": [
       "3"
      ]
     },
     "execution_count": 19,
     "metadata": {},
     "output_type": "execute_result"
    }
   ],
   "source": [
    "#Computing number of clusters formed in labels\n",
    "n_clusters_ = len(set(labels)) - (1 if -1 in labels else 0)\n",
    "n_clusters_"
   ]
  },
  {
   "cell_type": "code",
   "execution_count": 20,
   "metadata": {
    "execution": {
     "iopub.execute_input": "2020-11-25T20:29:47.067015Z",
     "iopub.status.busy": "2020-11-25T20:29:47.066138Z",
     "iopub.status.idle": "2020-11-25T20:29:47.070659Z",
     "shell.execute_reply": "2020-11-25T20:29:47.069886Z"
    },
    "papermill": {
     "duration": 0.044694,
     "end_time": "2020-11-25T20:29:47.070791",
     "exception": false,
     "start_time": "2020-11-25T20:29:47.026097",
     "status": "completed"
    },
    "tags": []
   },
   "outputs": [
    {
     "data": {
      "text/plain": [
       "38"
      ]
     },
     "execution_count": 20,
     "metadata": {},
     "output_type": "execute_result"
    }
   ],
   "source": [
    "#Counting how many -1 or outliers in the labels\n",
    "n_noise_ = list(labels).count(-1)\n",
    "n_noise_"
   ]
  },
  {
   "cell_type": "code",
   "execution_count": 21,
   "metadata": {
    "execution": {
     "iopub.execute_input": "2020-11-25T20:29:47.147196Z",
     "iopub.status.busy": "2020-11-25T20:29:47.146287Z",
     "iopub.status.idle": "2020-11-25T20:29:47.149987Z",
     "shell.execute_reply": "2020-11-25T20:29:47.150596Z"
    },
    "papermill": {
     "duration": 0.044867,
     "end_time": "2020-11-25T20:29:47.150758",
     "exception": false,
     "start_time": "2020-11-25T20:29:47.105891",
     "status": "completed"
    },
    "tags": []
   },
   "outputs": [
    {
     "name": "stdout",
     "output_type": "stream",
     "text": [
      "Estimated number of clusters: 3\n",
      "Estimated number of noise points: 38\n"
     ]
    }
   ],
   "source": [
    "#Printing estimated number of cluster and noise\n",
    "print('Estimated number of clusters: %d' % n_clusters_)\n",
    "print('Estimated number of noise points: %d' % n_noise_)  "
   ]
  },
  {
   "cell_type": "code",
   "execution_count": 22,
   "metadata": {
    "execution": {
     "iopub.execute_input": "2020-11-25T20:29:47.237095Z",
     "iopub.status.busy": "2020-11-25T20:29:47.235883Z",
     "iopub.status.idle": "2020-11-25T20:29:47.473668Z",
     "shell.execute_reply": "2020-11-25T20:29:47.474276Z"
    },
    "papermill": {
     "duration": 0.28682,
     "end_time": "2020-11-25T20:29:47.474441",
     "exception": false,
     "start_time": "2020-11-25T20:29:47.187621",
     "status": "completed"
    },
    "tags": []
   },
   "outputs": [
    {
     "data": {
      "image/png": "[encoded data removed]",
      "text/plain": [
       "<Figure size 1600x900 with 1 Axes>"
      ]
     },
     "metadata": {},
     "output_type": "display_data"
    }
   ],
   "source": [
    "#Visualization of Clusters\n",
    "\n",
    "plt.figure(figsize = (16,9)) #Fixing the size of the plot\n",
    "\n",
    "unique_labels = set(labels) #Getting clusters labels {-1, 0, 1, 2, 3, 4, 5, 6}\n",
    "\n",
    "colors = [plt.cm.Spectral(each) for each in np.linspace(0, 1, len(unique_labels))] #Creating 8 spectral numerical codes for colors from CMYK - cyan, magenta, yellow, and key\n",
    "\n",
    "for k, col in zip(unique_labels, colors):\n",
    "  if k == -1:\n",
    "    col = [1, 0, 1, 1] #This is a CMYK numerical list number of pink color.\n",
    "  \n",
    "  class_member_mask = (labels == k) #It is stating that mark as True for -1 and rest of are False in labels\n",
    "\n",
    "  xy = X[class_member_mask & core_samples_mask] #class_member_mask is a outlier data points & core_samples_mask is a core points\n",
    "  plt.plot(xy[:, 0], xy[:, 1], 'o', markerfacecolor=tuple(col), markeredgecolor='k', markersize=25)\n",
    "\n",
    "  xy = X[class_member_mask & ~core_samples_mask]\n",
    "  plt.plot(xy[:, 0], xy[:, 1], 'o', markerfacecolor=tuple(col),markeredgecolor='k', markersize=10)\n",
    "\n",
    "plt.title('Estimated number of clusters: %d' % n_clusters_)\n",
    "plt.show()"
   ]
  },
  {
   "cell_type": "markdown",
   "metadata": {
    "papermill": {
     "duration": 0.038217,
     "end_time": "2020-11-25T20:29:47.551087",
     "exception": false,
     "start_time": "2020-11-25T20:29:47.512870",
     "status": "completed"
    },
    "tags": []
   },
   "source": [
    "As per the visualization from the above graph, We can easy observe the outliers and formed a clusters."
   ]
  }
 ],
 "metadata": {
  "kernelspec": {
   "display_name": "Python 3 (ipykernel)",
   "language": "python",
   "name": "python3"
  },
  "language_info": {
   "codemirror_mode": {
    "name": "ipython",
    "version": 3
   },
   "file_extension": ".py",
   "mimetype": "text/x-python",
   "name": "python",
   "nbconvert_exporter": "python",
   "pygments_lexer": "ipython3",
   "version": "3.11.0"
  },
  "papermill": {
   "duration": 9.95475,
   "end_time": "2020-11-25T20:29:48.653674",
   "environment_variables": {},
   "exception": null,
   "input_path": "__notebook__.ipynb",
   "output_path": "__notebook__.ipynb",
   "parameters": {},
   "start_time": "2020-11-25T20:29:38.698924",
   "version": "2.1.0"
  }
 },
 "nbformat": 4,
 "nbformat_minor": 4
}
