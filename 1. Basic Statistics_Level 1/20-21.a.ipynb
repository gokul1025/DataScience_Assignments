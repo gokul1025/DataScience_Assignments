{
 "cells": [
  {
   "cell_type": "markdown",
   "id": "9ee47c43",
   "metadata": {},
   "source": [
    "Calculate probability from the given dataset for the below cases\n",
    "Data _set: Cars.csv                                                        \n",
    "Calculate the probability of MPG  of Cars for the below cases.                         \n",
    "      \n",
    "      MPG <- Cars$MPG                      \n",
    "a.\tP(MPG>38)                                                        \n",
    "b.\tP(MPG<40)                                                         \n",
    "c.    P (20<MPG<50)                                                "
   ]
  },
  {
   "cell_type": "code",
   "execution_count": 2,
   "id": "2c33cab6",
   "metadata": {},
   "outputs": [],
   "source": [
    "import numpy as np\n",
    "import pandas as pd\n",
    "from scipy import stats\n",
    "import matplotlib.pyplot as plt\n",
    "%matplotlib inline"
   ]
  },
  {
   "cell_type": "code",
   "execution_count": 3,
   "id": "eb4f5f40",
   "metadata": {
    "scrolled": true
   },
   "outputs": [
    {
     "data": {
      "text/html": [
       "<div>\n",
       "<style scoped>\n",
       "    .dataframe tbody tr th:only-of-type {\n",
       "        vertical-align: middle;\n",
       "    }\n",
       "\n",
       "    .dataframe tbody tr th {\n",
       "        vertical-align: top;\n",
       "    }\n",
       "\n",
       "    .dataframe thead th {\n",
       "        text-align: right;\n",
       "    }\n",
       "</style>\n",
       "<table border=\"1\" class=\"dataframe\">\n",
       "  <thead>\n",
       "    <tr style=\"text-align: right;\">\n",
       "      <th></th>\n",
       "      <th>HP</th>\n",
       "      <th>MPG</th>\n",
       "      <th>VOL</th>\n",
       "      <th>SP</th>\n",
       "      <th>WT</th>\n",
       "    </tr>\n",
       "  </thead>\n",
       "  <tbody>\n",
       "    <tr>\n",
       "      <th>0</th>\n",
       "      <td>49</td>\n",
       "      <td>53.700681</td>\n",
       "      <td>89</td>\n",
       "      <td>104.185353</td>\n",
       "      <td>28.762059</td>\n",
       "    </tr>\n",
       "    <tr>\n",
       "      <th>1</th>\n",
       "      <td>55</td>\n",
       "      <td>50.013401</td>\n",
       "      <td>92</td>\n",
       "      <td>105.461264</td>\n",
       "      <td>30.466833</td>\n",
       "    </tr>\n",
       "    <tr>\n",
       "      <th>2</th>\n",
       "      <td>55</td>\n",
       "      <td>50.013401</td>\n",
       "      <td>92</td>\n",
       "      <td>105.461264</td>\n",
       "      <td>30.193597</td>\n",
       "    </tr>\n",
       "    <tr>\n",
       "      <th>3</th>\n",
       "      <td>70</td>\n",
       "      <td>45.696322</td>\n",
       "      <td>92</td>\n",
       "      <td>113.461264</td>\n",
       "      <td>30.632114</td>\n",
       "    </tr>\n",
       "    <tr>\n",
       "      <th>4</th>\n",
       "      <td>53</td>\n",
       "      <td>50.504232</td>\n",
       "      <td>92</td>\n",
       "      <td>104.461264</td>\n",
       "      <td>29.889149</td>\n",
       "    </tr>\n",
       "    <tr>\n",
       "      <th>...</th>\n",
       "      <td>...</td>\n",
       "      <td>...</td>\n",
       "      <td>...</td>\n",
       "      <td>...</td>\n",
       "      <td>...</td>\n",
       "    </tr>\n",
       "    <tr>\n",
       "      <th>76</th>\n",
       "      <td>322</td>\n",
       "      <td>36.900000</td>\n",
       "      <td>50</td>\n",
       "      <td>169.598513</td>\n",
       "      <td>16.132947</td>\n",
       "    </tr>\n",
       "    <tr>\n",
       "      <th>77</th>\n",
       "      <td>238</td>\n",
       "      <td>19.197888</td>\n",
       "      <td>115</td>\n",
       "      <td>150.576579</td>\n",
       "      <td>37.923113</td>\n",
       "    </tr>\n",
       "    <tr>\n",
       "      <th>78</th>\n",
       "      <td>263</td>\n",
       "      <td>34.000000</td>\n",
       "      <td>50</td>\n",
       "      <td>151.598513</td>\n",
       "      <td>15.769625</td>\n",
       "    </tr>\n",
       "    <tr>\n",
       "      <th>79</th>\n",
       "      <td>295</td>\n",
       "      <td>19.833733</td>\n",
       "      <td>119</td>\n",
       "      <td>167.944460</td>\n",
       "      <td>39.423099</td>\n",
       "    </tr>\n",
       "    <tr>\n",
       "      <th>80</th>\n",
       "      <td>236</td>\n",
       "      <td>12.101263</td>\n",
       "      <td>107</td>\n",
       "      <td>139.840817</td>\n",
       "      <td>34.948615</td>\n",
       "    </tr>\n",
       "  </tbody>\n",
       "</table>\n",
       "<p>81 rows × 5 columns</p>\n",
       "</div>"
      ],
      "text/plain": [
       "     HP        MPG  VOL          SP         WT\n",
       "0    49  53.700681   89  104.185353  28.762059\n",
       "1    55  50.013401   92  105.461264  30.466833\n",
       "2    55  50.013401   92  105.461264  30.193597\n",
       "3    70  45.696322   92  113.461264  30.632114\n",
       "4    53  50.504232   92  104.461264  29.889149\n",
       "..  ...        ...  ...         ...        ...\n",
       "76  322  36.900000   50  169.598513  16.132947\n",
       "77  238  19.197888  115  150.576579  37.923113\n",
       "78  263  34.000000   50  151.598513  15.769625\n",
       "79  295  19.833733  119  167.944460  39.423099\n",
       "80  236  12.101263  107  139.840817  34.948615\n",
       "\n",
       "[81 rows x 5 columns]"
      ]
     },
     "execution_count": 3,
     "metadata": {},
     "output_type": "execute_result"
    }
   ],
   "source": [
    "df = pd.read_csv(\"Cars.csv\")\n",
    "df"
   ]
  },
  {
   "cell_type": "code",
   "execution_count": 4,
   "id": "76bfce1b",
   "metadata": {},
   "outputs": [
    {
     "data": {
      "text/plain": [
       "0     53.700681\n",
       "1     50.013401\n",
       "2     50.013401\n",
       "3     45.696322\n",
       "4     50.504232\n",
       "        ...    \n",
       "76    36.900000\n",
       "77    19.197888\n",
       "78    34.000000\n",
       "79    19.833733\n",
       "80    12.101263\n",
       "Name: MPG, Length: 81, dtype: float64"
      ]
     },
     "execution_count": 4,
     "metadata": {},
     "output_type": "execute_result"
    }
   ],
   "source": [
    "df[\"MPG\"]"
   ]
  },
  {
   "cell_type": "code",
   "execution_count": 7,
   "id": "13d71df3",
   "metadata": {},
   "outputs": [
    {
     "name": "stdout",
     "output_type": "stream",
     "text": [
      "P(MPG>38)= 0.348\n"
     ]
    }
   ],
   "source": [
    "P_MPG_greater_than_38 = np.round(1 - stats.norm.cdf(38, loc= df.MPG.mean(), scale= df.MPG.std()),3)\n",
    "print('P(MPG>38)=',P_MPG_greater_than_38)"
   ]
  },
  {
   "cell_type": "code",
   "execution_count": 8,
   "id": "b5662ea9",
   "metadata": {},
   "outputs": [
    {
     "name": "stdout",
     "output_type": "stream",
     "text": [
      "P(MPG<40)= 0.729\n"
     ]
    }
   ],
   "source": [
    "P_MPG_less_than_40 = np.round(stats.norm.cdf(40, loc = df.MPG.mean(), scale = df.MPG.std()),3)\n",
    "print('P(MPG<40)=',P_MPG_less_than_40)"
   ]
  },
  {
   "cell_type": "code",
   "execution_count": 9,
   "id": "9a90ad8c",
   "metadata": {},
   "outputs": [
    {
     "name": "stdout",
     "output_type": "stream",
     "text": [
      "P(MPG>20)= 0.943\n"
     ]
    }
   ],
   "source": [
    "P_MPG_greater_than_20 = np.round(1-stats.norm.cdf(20, loc = df.MPG.mean(), scale = df.MPG.std()),3)\n",
    "print('P(MPG>20)=',(P_MPG_greater_than_20))"
   ]
  },
  {
   "cell_type": "code",
   "execution_count": 10,
   "id": "61011847",
   "metadata": {},
   "outputs": [
    {
     "name": "stdout",
     "output_type": "stream",
     "text": [
      "P(MPG<50)= 0.956\n"
     ]
    }
   ],
   "source": [
    "P_MPG_less_than_50 = np.round(stats.norm.cdf(50, loc = df.MPG.mean(), scale = df.MPG.std()),3)\n",
    "print('P(MPG<50)=',(P_MPG_less_than_50))"
   ]
  },
  {
   "cell_type": "code",
   "execution_count": 11,
   "id": "61e87ff3",
   "metadata": {},
   "outputs": [
    {
     "name": "stdout",
     "output_type": "stream",
     "text": [
      "P(20<MPG<50)= 0.013000000000000012\n"
     ]
    }
   ],
   "source": [
    "P_MPG_greaterthan20_and_lessthan50= (P_MPG_less_than_50) - (P_MPG_greater_than_20)\n",
    "print('P(20<MPG<50)=',(P_MPG_greaterthan20_and_lessthan50))"
   ]
  },
  {
   "cell_type": "code",
   "execution_count": 12,
   "id": "6af156d6",
   "metadata": {},
   "outputs": [
    {
     "data": {
      "image/png": "[encoded data removed]",
      "text/plain": [
       "<Figure size 640x480 with 1 Axes>"
      ]
     },
     "metadata": {},
     "output_type": "display_data"
    }
   ],
   "source": [
    "plt.hist(df[\"MPG\"], bins = 20, edgecolor=  'black')\n",
    "plt.show()"
   ]
  },
  {
   "cell_type": "code",
   "execution_count": 13,
   "id": "60bf955f",
   "metadata": {},
   "outputs": [
    {
     "data": {
      "image/png": "[encoded data removed]",
      "text/plain": [
       "<Figure size 640x480 with 1 Axes>"
      ]
     },
     "metadata": {},
     "output_type": "display_data"
    }
   ],
   "source": [
    "plt.boxplot(x=\"MPG\", data=df)\n",
    "plt.show()"
   ]
  },
  {
   "cell_type": "code",
   "execution_count": 15,
   "id": "feee44b6",
   "metadata": {},
   "outputs": [
    {
     "data": {
      "image/png": "[encoded data removed]",
      "text/plain": [
       "<Figure size 640x480 with 1 Axes>"
      ]
     },
     "metadata": {},
     "output_type": "display_data"
    }
   ],
   "source": [
    "import scipy.stats as stats\n",
    "stats.probplot(df['MPG'], dist=\"norm\", plot=plt)\n",
    "plt.xlabel('MPG')\n",
    "plt.savefig('MPG q21.png')\n",
    "plt.show()"
   ]
  },
  {
   "cell_type": "code",
   "execution_count": null,
   "id": "08d6fcd7",
   "metadata": {},
   "outputs": [],
   "source": []
  }
 ],
 "metadata": {
  "kernelspec": {
   "display_name": "Python 3 (ipykernel)",
   "language": "python",
   "name": "python3"
  },
  "language_info": {
   "codemirror_mode": {
    "name": "ipython",
    "version": 3
   },
   "file_extension": ".py",
   "mimetype": "text/x-python",
   "name": "python",
   "nbconvert_exporter": "python",
   "pygments_lexer": "ipython3",
   "version": "3.11.0"
  }
 },
 "nbformat": 4,
 "nbformat_minor": 5
}
