{
 "cells": [
  {
   "cell_type": "code",
   "execution_count": 1,
   "id": "72c03dd1",
   "metadata": {},
   "outputs": [],
   "source": [
    "import numpy as np\n",
    "import scipy.stats as stats\n",
    "import warnings\n",
    "warnings.filterwarnings('ignore')"
   ]
  },
  {
   "cell_type": "code",
   "execution_count": 2,
   "id": "6c1532a9",
   "metadata": {},
   "outputs": [],
   "source": [
    "conf_94 = stats.t.interval(alpha = 0.94, df = 1999, loc = 200, scale = 30/np.sqrt(2000))\n",
    "conf_98 = stats.t.interval(alpha = 0.98, df = 1999, loc = 200, scale = 30/np.sqrt(2000))\n",
    "conf_96 = stats.t.interval(alpha = 0.96, df = 1999, loc = 200, scale = 30/np.sqrt(2000))"
   ]
  },
  {
   "cell_type": "code",
   "execution_count": 3,
   "id": "1bba2e68",
   "metadata": {},
   "outputs": [
    {
     "data": {
      "text/plain": [
       "(198.7376089443071, 201.2623910556929)"
      ]
     },
     "execution_count": 3,
     "metadata": {},
     "output_type": "execute_result"
    }
   ],
   "source": [
    "#conf_94"
   ]
  },
  {
   "cell_type": "code",
   "execution_count": 4,
   "id": "298e1763",
   "metadata": {},
   "outputs": [
    {
     "data": {
      "text/plain": [
       "(198.4381860483216, 201.5618139516784)"
      ]
     },
     "execution_count": 4,
     "metadata": {},
     "output_type": "execute_result"
    }
   ],
   "source": [
    "#conf_98"
   ]
  },
  {
   "cell_type": "code",
   "execution_count": 5,
   "id": "fde4122e",
   "metadata": {},
   "outputs": [
    {
     "data": {
      "text/plain": [
       "(198.6214037429732, 201.3785962570268)"
      ]
     },
     "execution_count": 5,
     "metadata": {},
     "output_type": "execute_result"
    }
   ],
   "source": [
    "#conf_96"
   ]
  },
  {
   "cell_type": "code",
   "execution_count": 6,
   "id": "e6c12876",
   "metadata": {},
   "outputs": [
    {
     "data": {
      "text/plain": [
       "array([198.738, 201.262])"
      ]
     },
     "execution_count": 6,
     "metadata": {},
     "output_type": "execute_result"
    }
   ],
   "source": [
    "np.round(conf_94,3)"
   ]
  },
  {
   "cell_type": "code",
   "execution_count": 7,
   "id": "e7a2b71c",
   "metadata": {},
   "outputs": [
    {
     "data": {
      "text/plain": [
       "array([198.438, 201.562])"
      ]
     },
     "execution_count": 7,
     "metadata": {},
     "output_type": "execute_result"
    }
   ],
   "source": [
    "np.round(conf_98,3)"
   ]
  },
  {
   "cell_type": "code",
   "execution_count": 8,
   "id": "1620285e",
   "metadata": {},
   "outputs": [
    {
     "data": {
      "text/plain": [
       "array([198.621, 201.379])"
      ]
     },
     "execution_count": 8,
     "metadata": {},
     "output_type": "execute_result"
    }
   ],
   "source": [
    "np.round(conf_96,3)"
   ]
  }
 ],
 "metadata": {
  "kernelspec": {
   "display_name": "Python 3 (ipykernel)",
   "language": "python",
   "name": "python3"
  },
  "language_info": {
   "codemirror_mode": {
    "name": "ipython",
    "version": 3
   },
   "file_extension": ".py",
   "mimetype": "text/x-python",
   "name": "python",
   "nbconvert_exporter": "python",
   "pygments_lexer": "ipython3",
   "version": "3.11.0"
  }
 },
 "nbformat": 4,
 "nbformat_minor": 5
}
